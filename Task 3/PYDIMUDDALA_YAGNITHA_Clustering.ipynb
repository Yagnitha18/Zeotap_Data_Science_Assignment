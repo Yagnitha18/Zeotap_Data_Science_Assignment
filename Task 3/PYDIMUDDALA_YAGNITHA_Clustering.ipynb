{
 "cells": [
  {
   "cell_type": "markdown",
   "id": "54f96295-b2c4-4ba3-80b4-2cc78883afe1",
   "metadata": {},
   "source": [
    "# **TASK 3 : Customer Segmentation / Clustering**\n",
    "## 1. Load Required Libraries and Data\n",
    "### Import required Libraries"
   ]
  },
  {
   "cell_type": "code",
   "execution_count": 1,
   "id": "c5357b9e-03f8-435c-8208-c60d131b4c75",
   "metadata": {},
   "outputs": [],
   "source": [
    "import pandas as pd\n",
    "import numpy as np\n",
    "from sklearn.preprocessing import StandardScaler\n",
    "from sklearn.cluster import KMeans\n",
    "from sklearn.metrics import davies_bouldin_score, silhouette_score\n",
    "import matplotlib.pyplot as plt\n",
    "import seaborn as sns"
   ]
  },
  {
   "cell_type": "markdown",
   "id": "89e540e3-d3a6-4890-aa1c-b7d27fb0aac1",
   "metadata": {},
   "source": [
    "### Load the datasets"
   ]
  },
  {
   "cell_type": "code",
   "execution_count": 2,
   "id": "18c0524b-b35b-4851-91de-c3b23963f885",
   "metadata": {},
   "outputs": [],
   "source": [
    "customers = pd.read_csv(\"Customers.csv\")\n",
    "transactions = pd.read_csv(\"Transactions.csv\")"
   ]
  },
  {
   "cell_type": "markdown",
   "id": "6bc77c26-9219-4f3f-881b-a8f53a0072ff",
   "metadata": {},
   "source": [
    "### Inspect the data"
   ]
  },
  {
   "cell_type": "code",
   "execution_count": 3,
   "id": "54df9e9d-84b3-4384-987e-fe8b53808f86",
   "metadata": {},
   "outputs": [
    {
     "name": "stdout",
     "output_type": "stream",
     "text": [
      "  CustomerID        CustomerName         Region  SignupDate\n",
      "0      C0001    Lawrence Carroll  South America  2022-07-10\n",
      "1      C0002      Elizabeth Lutz           Asia  2022-02-13\n",
      "2      C0003      Michael Rivera  South America  2024-03-07\n",
      "3      C0004  Kathleen Rodriguez  South America  2022-10-09\n",
      "4      C0005         Laura Weber           Asia  2022-08-15\n"
     ]
    }
   ],
   "source": [
    "print(customers.head())"
   ]
  },
  {
   "cell_type": "code",
   "execution_count": 4,
   "id": "f2cb1585-075e-45fe-8f01-53a0dcf1046f",
   "metadata": {},
   "outputs": [
    {
     "name": "stdout",
     "output_type": "stream",
     "text": [
      "  TransactionID CustomerID ProductID      TransactionDate  Quantity  \\\n",
      "0        T00001      C0199      P067  2024-08-25 12:38:23         1   \n",
      "1        T00112      C0146      P067  2024-05-27 22:23:54         1   \n",
      "2        T00166      C0127      P067  2024-04-25 07:38:55         1   \n",
      "3        T00272      C0087      P067  2024-03-26 22:55:37         2   \n",
      "4        T00363      C0070      P067  2024-03-21 15:10:10         3   \n",
      "\n",
      "   TotalValue   Price  \n",
      "0      300.68  300.68  \n",
      "1      300.68  300.68  \n",
      "2      300.68  300.68  \n",
      "3      601.36  300.68  \n",
      "4      902.04  300.68  \n"
     ]
    }
   ],
   "source": [
    "print(transactions.head())"
   ]
  },
  {
   "cell_type": "markdown",
   "id": "c79c844f-4bdf-4aae-b6bc-5fbdd75d0205",
   "metadata": {},
   "source": [
    "## 2. Prepare the Data for Clustering\n",
    "\n",
    "### 1. Aggregate Transaction Data: Compute total spending and transaction count for each customer."
   ]
  },
  {
   "cell_type": "code",
   "execution_count": 5,
   "id": "105bb140-317f-41e4-bb3b-7fb0e5e090e1",
   "metadata": {},
   "outputs": [
    {
     "name": "stdout",
     "output_type": "stream",
     "text": [
      "  CustomerID        CustomerName         Region  SignupDate  TotalSpending  \\\n",
      "0      C0001    Lawrence Carroll  South America  2022-07-10        3354.52   \n",
      "1      C0002      Elizabeth Lutz           Asia  2022-02-13        1862.74   \n",
      "2      C0003      Michael Rivera  South America  2024-03-07        2725.38   \n",
      "3      C0004  Kathleen Rodriguez  South America  2022-10-09        5354.88   \n",
      "4      C0005         Laura Weber           Asia  2022-08-15        2034.24   \n",
      "\n",
      "   TransactionCount  \n",
      "0                 5  \n",
      "1                 4  \n",
      "2                 4  \n",
      "3                 8  \n",
      "4                 3  \n"
     ]
    }
   ],
   "source": [
    "transaction_agg = transactions.groupby('CustomerID').agg({\n",
    "    'TotalValue': 'sum',\n",
    "    'TransactionID': 'count'\n",
    "}).rename(columns={'TotalValue': 'TotalSpending', 'TransactionID': 'TransactionCount'})\n",
    "\n",
    "# Merge with customer profile data\n",
    "customer_data = customers.merge(transaction_agg, on='CustomerID', how='inner')\n",
    "print(customer_data.head())"
   ]
  },
  {
   "cell_type": "markdown",
   "id": "cbb3a5de-8a9e-49bd-996e-e8dfc81fdcf7",
   "metadata": {},
   "source": [
    "### 2. Select Features for Clustering: Use relevant numerical features (e.g., TotalSpending, TransactionCount, Region as encoded values)."
   ]
  },
  {
   "cell_type": "code",
   "execution_count": 6,
   "id": "c3430452-9bf6-4466-95c6-15ed94b2820d",
   "metadata": {},
   "outputs": [],
   "source": [
    "customer_data['Region'] = customer_data['Region'].astype('category').cat.codes\n",
    "\n",
    "features = customer_data[['Region', 'TotalSpending', 'TransactionCount']]\n",
    "\n",
    "# Standardize the features\n",
    "scaler = StandardScaler()\n",
    "scaled_features = scaler.fit_transform(features)"
   ]
  },
  {
   "cell_type": "markdown",
   "id": "c53c8c39-d721-4d4d-bfaf-65b7a49cebaa",
   "metadata": {},
   "source": [
    "## 3. Apply Clustering Algorithm\n",
    "\n",
    "### Choose K (Number of Clusters): Use the Elbow Method to identify an optimal number of clusters:"
   ]
  },
  {
   "cell_type": "code",
   "execution_count": 7,
   "id": "ba3bfacb-ae09-4ffe-a61d-fbb55e69e009",
   "metadata": {},
   "outputs": [
    {
     "data": {
      "image/png": "[encoded data removed]",
      "text/plain": [
       "<Figure size 576x360 with 1 Axes>"
      ]
     },
     "metadata": {
      "needs_background": "light"
     },
     "output_type": "display_data"
    }
   ],
   "source": [
    "inertia = []\n",
    "k_range = range(2, 11)\n",
    "\n",
    "for k in k_range:\n",
    "    kmeans = KMeans(n_clusters=k, random_state=42)\n",
    "    kmeans.fit(scaled_features)\n",
    "    inertia.append(kmeans.inertia_)\n",
    "\n",
    "# Plot the Elbow Curve\n",
    "plt.figure(figsize=(8, 5))\n",
    "plt.plot(k_range, inertia, marker='o')\n",
    "plt.title('Elbow Method for Optimal K')\n",
    "plt.xlabel('Number of Clusters')\n",
    "plt.ylabel('Inertia')\n",
    "plt.show()\n"
   ]
  },
  {
   "cell_type": "markdown",
   "id": "51024fd5-29fa-45e6-8750-5f85e1856819",
   "metadata": {},
   "source": [
    "### 3. Run KMeans Clustering: Select the optimal number of clusters (e.g., 4) based on the Elbow Curve."
   ]
  },
  {
   "cell_type": "code",
   "execution_count": 8,
   "id": "516f7cb6-b986-4a5f-81e0-b163afeb78c9",
   "metadata": {},
   "outputs": [],
   "source": [
    "optimal_k = 4  # Adjust based on Elbow Curve\n",
    "kmeans = KMeans(n_clusters=optimal_k, random_state=42)\n",
    "customer_data['Cluster'] = kmeans.fit_predict(scaled_features)"
   ]
  },
  {
   "cell_type": "markdown",
   "id": "bb01c8bb-ab04-48e3-87f6-ab8d8fc64153",
   "metadata": {},
   "source": [
    "## 4. Evaluate Clustering\n",
    "\n",
    "### 1. Calculate Metrics: Compute Davies-Bouldin Index and Silhouette Score:"
   ]
  },
  {
   "cell_type": "code",
   "execution_count": 9,
   "id": "05fd84ee-441a-4937-9fad-e83ea9e9fc48",
   "metadata": {},
   "outputs": [
    {
     "name": "stdout",
     "output_type": "stream",
     "text": [
      "Davies-Bouldin Index: 1.0263175177945745\n",
      "Silhouette Score: 0.3477316347835255\n"
     ]
    }
   ],
   "source": [
    "db_index = davies_bouldin_score(scaled_features, customer_data['Cluster'])\n",
    "silhouette_avg = silhouette_score(scaled_features, customer_data['Cluster'])\n",
    "\n",
    "print(f\"Davies-Bouldin Index: {db_index}\")\n",
    "print(f\"Silhouette Score: {silhouette_avg}\")"
   ]
  },
  {
   "cell_type": "markdown",
   "id": "d3754707-2998-45a5-b8ee-84c1910b24e6",
   "metadata": {},
   "source": [
    "## 2. Analyze Clusters: Summarize key characteristics of each cluster:"
   ]
  },
  {
   "cell_type": "code",
   "execution_count": 10,
   "id": "e1458ab2-8283-4cb1-a41f-86b6ad93dd3f",
   "metadata": {},
   "outputs": [
    {
     "name": "stdout",
     "output_type": "stream",
     "text": [
      "        TotalSpending          TransactionCount           Region\n",
      "                 mean   median             mean median      mean\n",
      "Cluster                                                         \n",
      "0         2405.910667  2592.97         3.783333    4.0  2.516667\n",
      "1         5051.362667  5053.83         7.133333    7.0  2.622222\n",
      "2         2099.766364  2138.26         3.400000    3.0  0.527273\n",
      "3         5201.088462  4982.88         6.794872    7.0  0.538462\n"
     ]
    }
   ],
   "source": [
    "cluster_summary = customer_data.groupby('Cluster').agg({\n",
    "    'TotalSpending': ['mean', 'median'],\n",
    "    'TransactionCount': ['mean', 'median'],\n",
    "    'Region': 'mean'\n",
    "})\n",
    "print(cluster_summary)"
   ]
  },
  {
   "cell_type": "markdown",
   "id": "93cb2020-2a47-481a-a408-ef9f39997bc3",
   "metadata": {},
   "source": [
    "## 5. Visualize Clusters\n",
    "\n",
    "### 1. Scatter Plot of Clusters: Visualize clusters using key features:"
   ]
  },
  {
   "cell_type": "code",
   "execution_count": 11,
   "id": "6c034ea8-8612-4bd6-abcc-49ebbda98288",
   "metadata": {},
   "outputs": [
    {
     "data": {
      "image/png": "[encoded data removed]",
      "text/plain": [
       "<Figure size 720x432 with 1 Axes>"
      ]
     },
     "metadata": {
      "needs_background": "light"
     },
     "output_type": "display_data"
    }
   ],
   "source": [
    "plt.figure(figsize=(10, 6))\n",
    "sns.scatterplot(\n",
    "    x=customer_data['TotalSpending'],\n",
    "    y=customer_data['TransactionCount'],\n",
    "    hue=customer_data['Cluster'],\n",
    "    palette='viridis',\n",
    "    s=100\n",
    ")\n",
    "plt.title('Customer Clusters')\n",
    "plt.xlabel('Total Spending')\n",
    "plt.ylabel('Transaction Count')\n",
    "plt.legend(title='Cluster')\n",
    "plt.show()\n"
   ]
  },
  {
   "cell_type": "markdown",
   "id": "c34edfab-f8ab-445f-8770-61f0d143bdab",
   "metadata": {},
   "source": [
    "### 2. Cluster Centers: Show cluster centroids for interpretability:"
   ]
  },
  {
   "cell_type": "code",
   "execution_count": 12,
   "id": "92a08fd6-c096-467c-84fd-af15ab2a23b5",
   "metadata": {},
   "outputs": [
    {
     "name": "stdout",
     "output_type": "stream",
     "text": [
      "Cluster Centers (Unscaled): [[2.51666667e+00 2.40591067e+03 3.78333333e+00]\n",
      " [2.62222222e+00 5.05136267e+03 7.13333333e+00]\n",
      " [5.27272727e-01 2.09976636e+03 3.40000000e+00]\n",
      " [5.38461538e-01 5.20108846e+03 6.79487179e+00]]\n"
     ]
    }
   ],
   "source": [
    "centers = scaler.inverse_transform(kmeans.cluster_centers_)\n",
    "print(f\"Cluster Centers (Unscaled): {centers}\")"
   ]
  }
 ],
 "metadata": {
  "kernelspec": {
   "display_name": "Python 3 (ipykernel)",
   "language": "python",
   "name": "python3"
  },
  "language_info": {
   "codemirror_mode": {
    "name": "ipython",
    "version": 3
   },
   "file_extension": ".py",
   "mimetype": "text/x-python",
   "name": "python",
   "nbconvert_exporter": "python",
   "pygments_lexer": "ipython3",
   "version": "3.10.2"
  }
 },
 "nbformat": 4,
 "nbformat_minor": 5
}
