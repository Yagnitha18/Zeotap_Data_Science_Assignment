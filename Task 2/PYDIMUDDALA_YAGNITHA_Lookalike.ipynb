{
 "cells": [
  {
   "cell_type": "markdown",
   "id": "1f361cb1-6d20-434d-935b-2fd2c8335aa5",
   "metadata": {},
   "source": [
    "# **TASK 2 : Lookalike Model**"
   ]
  },
  {
   "cell_type": "code",
   "execution_count": 1,
   "id": "0f10b9e1-bbe2-4cdc-8c98-95405f3780bd",
   "metadata": {},
   "outputs": [],
   "source": [
    "import pandas as pd\n",
    "from sklearn.metrics.pairwise import cosine_similarity\n",
    "from sklearn.preprocessing import StandardScaler, LabelEncoder\n",
    "import numpy as np"
   ]
  },
  {
   "cell_type": "code",
   "execution_count": 2,
   "id": "913dbbc4-6d6f-4567-9933-66d069e23bb0",
   "metadata": {},
   "outputs": [],
   "source": [
    "# Step 1: Load the data\n",
    "customers_path = \"Customers.csv\"\n",
    "products_path = \"Products.csv\"\n",
    "transactions_path = \"Transactions.csv\"\n",
    "\n",
    "customers = pd.read_csv(customers_path)\n",
    "products = pd.read_csv(products_path)\n",
    "transactions = pd.read_csv(transactions_path)"
   ]
  },
  {
   "cell_type": "code",
   "execution_count": 3,
   "id": "4b1c5ac9-070f-4f5c-811b-056e7600c913",
   "metadata": {},
   "outputs": [],
   "source": [
    "# Step 2: Preprocess data\n",
    "# Encode categorical variables (Region, Category) and calculate customer-level features\n",
    "label_encoder = LabelEncoder()\n",
    "customers['Region'] = label_encoder.fit_transform(customers['Region'])\n",
    "\n",
    "# Aggregate transactions to get customer-level features\n",
    "customer_transactions = transactions.groupby('CustomerID').agg(\n",
    "    total_spent=('TotalValue', 'sum'),\n",
    "    total_quantity=('Quantity', 'sum'),\n",
    "    avg_price=('Price', 'mean'),\n",
    "    transaction_count=('TransactionID', 'count')\n",
    ").reset_index()\n",
    "\n",
    "# Merge with customer data\n",
    "customer_data = pd.merge(customers, customer_transactions, on='CustomerID', how='left')\n",
    "customer_data.fillna(0, inplace=True)"
   ]
  },
  {
   "cell_type": "code",
   "execution_count": 4,
   "id": "f4316f19-f344-42d9-a489-fbf53af166c7",
   "metadata": {},
   "outputs": [],
   "source": [
    "# Step 3: Standardize numerical features\n",
    "numerical_features = ['total_spent', 'total_quantity', 'avg_price', 'transaction_count']\n",
    "scaler = StandardScaler()\n",
    "customer_data[numerical_features] = scaler.fit_transform(customer_data[numerical_features])"
   ]
  },
  {
   "cell_type": "code",
   "execution_count": 5,
   "id": "36b23d12-37cd-4149-a644-8acd3e73c5ab",
   "metadata": {},
   "outputs": [],
   "source": [
    "# Step 4: Calculate similarity using cosine similarity\n",
    "customer_features = customer_data[['Region', 'total_spent', 'total_quantity', 'avg_price', 'transaction_count']]\n",
    "similarity_matrix = cosine_similarity(customer_features)"
   ]
  },
  {
   "cell_type": "code",
   "execution_count": 6,
   "id": "70e439bc-a9cd-494c-a188-e212a51fc9f6",
   "metadata": {},
   "outputs": [],
   "source": [
    "# Step 5: Find top 3 similar customers for the first 20 customers\n",
    "lookalike_results = {}\n",
    "first_20_customers = customer_data['CustomerID'][:20]\n",
    "for customer_id in first_20_customers:\n",
    "    idx = customer_data[customer_data['CustomerID'] == customer_id].index[0]\n",
    "    # Get similarity scores for this customer\n",
    "    similarities = list(enumerate(similarity_matrix[idx]))\n",
    "    # Sort by similarity score in descending order (excluding self)\n",
    "    similarities = sorted(similarities, key=lambda x: x[1], reverse=True)\n",
    "    top_similar = [(customer_data['CustomerID'][i], score) for i, score in similarities if i != idx][:3]\n",
    "    lookalike_results[customer_id] = top_similar"
   ]
  },
  {
   "cell_type": "code",
   "execution_count": 7,
   "id": "153060f7-dacc-4c62-943e-a3425eb30f1d",
   "metadata": {},
   "outputs": [
    {
     "name": "stdout",
     "output_type": "stream",
     "text": [
      "Lookalike model results saved to Lookalike.csv\n"
     ]
    }
   ],
   "source": [
    "# Step 6: Save results to CSV\n",
    "lookalike_list = []\n",
    "for customer_id, similar_customers in lookalike_results.items():\n",
    "    lookalike_list.append({\n",
    "        \"cust_id\": customer_id,\n",
    "        \"similarity_score\": similar_customers\n",
    "    })\n",
    "\n",
    "lookalike_df = pd.DataFrame(lookalike_list)\n",
    "lookalike_df.to_csv(\"PYDIMUDDALA_YAGNITHA_Lookalike.csv\", index=False)\n",
    "\n",
    "print(\"Lookalike model results saved to Lookalike.csv\")"
   ]
  }
 ],
 "metadata": {
  "kernelspec": {
   "display_name": "Python 3 (ipykernel)",
   "language": "python",
   "name": "python3"
  },
  "language_info": {
   "codemirror_mode": {
    "name": "ipython",
    "version": 3
   },
   "file_extension": ".py",
   "mimetype": "text/x-python",
   "name": "python",
   "nbconvert_exporter": "python",
   "pygments_lexer": "ipython3",
   "version": "3.10.2"
  }
 },
 "nbformat": 4,
 "nbformat_minor": 5
}
